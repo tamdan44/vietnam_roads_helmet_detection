{
 "cells": [
  {
   "cell_type": "code",
   "execution_count": 9,
   "metadata": {},
   "outputs": [],
   "source": [
    "import os\n",
    "import cv2\n"
   ]
  },
  {
   "cell_type": "code",
   "execution_count": 10,
   "metadata": {},
   "outputs": [],
   "source": [
    "# change to current dir\n",
    "\n",
    "if '__file__' in globals():\n",
    "    current_dir = os.path.dirname(os.path.abspath(__file__))\n",
    "    os.chdir(current_dir)\n",
    "else:\n",
    "    current_dir = os.getcwd()\n"
   ]
  },
  {
   "cell_type": "code",
   "execution_count": 11,
   "metadata": {},
   "outputs": [],
   "source": [
    "def frames_from_vid(video_path, output_dir, frame_rate):\n",
    "    if not os.path.exists(output_dir):\n",
    "        os.makedirs(output_dir)\n",
    "\n",
    "    capture = cv2.VideoCapture(video_path)\n",
    "    if not capture.isOpened():\n",
    "        print('Cannot open the video')\n",
    "        return\n",
    "    \n",
    "    frame_count=0\n",
    "    saved_frame_count=0\n",
    "    video_name= video_path.split(\"\\\\\")[-1][:-4]\n",
    "\n",
    "    while True:\n",
    "        ret, frame = capture.read()\n",
    "        if not ret:\n",
    "            break\n",
    "\n",
    "        if frame_count % frame_rate ==0:\n",
    "            file_name = os.path.join(output_dir, f\"{video_name}_{saved_frame_count}.jpg\")\n",
    "            cv2.imwrite(file_name, frame)\n",
    "            saved_frame_count+=1\n",
    "        \n",
    "        frame_count +=1\n",
    "    \n",
    "    capture.release()\n",
    "    print(f\"Saved {saved_frame_count} frames to {output_dir}\")"
   ]
  },
  {
   "cell_type": "code",
   "execution_count": 12,
   "metadata": {},
   "outputs": [
    {
     "name": "stdout",
     "output_type": "stream",
     "text": [
      "Saved 217 frames to vid_pics\\\\\n"
     ]
    },
    {
     "ename": "",
     "evalue": "",
     "output_type": "error",
     "traceback": [
      "\u001b[1;31mThe Kernel crashed while executing code in the current cell or a previous cell. \n",
      "\u001b[1;31mPlease review the code in the cell(s) to identify a possible cause of the failure. \n",
      "\u001b[1;31mClick <a href='https://aka.ms/vscodeJupyterKernelCrash'>here</a> for more info. \n",
      "\u001b[1;31mView Jupyter <a href='command:jupyter.viewOutput'>log</a> for further details."
     ]
    }
   ],
   "source": [
    "input_dir = r'vids\\\\'\n",
    "output_dir = r'vid_pics\\\\'\n",
    "vid_list = os.listdir(input_dir)\n",
    "\n",
    "for vid in vid_list:\n",
    "    vid = input_dir + vid\n",
    "    frames_from_vid(vid, output_dir, 1000)"
   ]
  }
 ],
 "metadata": {
  "kernelspec": {
   "display_name": "Python 3",
   "language": "python",
   "name": "python3"
  },
  "language_info": {
   "codemirror_mode": {
    "name": "ipython",
    "version": 3
   },
   "file_extension": ".py",
   "mimetype": "text/x-python",
   "name": "python",
   "nbconvert_exporter": "python",
   "pygments_lexer": "ipython3",
   "version": "3.12.1"
  }
 },
 "nbformat": 4,
 "nbformat_minor": 2
}
